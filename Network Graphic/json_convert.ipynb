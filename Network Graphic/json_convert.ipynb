{
 "cells": [
  {
   "cell_type": "code",
   "execution_count": 16,
   "metadata": {},
   "outputs": [],
   "source": [
    "import pandas as pd\n",
    "\n",
    "data = pd.read_csv('EmailNetworks.csv', encoding='latin1')\n",
    "# make nodes from unique values in sender and receiver columns\n",
    "nodes = pd.DataFrame(pd.concat([data['sender'], data['receiver']])).drop_duplicates().reset_index(drop=True)\n",
    "nodes.columns = ['id']\n",
    "\n",
    "# make links from sender and receiver columns\n",
    "data.columns = ['source','target','value']\n",
    "\n",
    "\n",
    "nodes_json = nodes.to_json(orient='records')\n",
    "links_json = data.to_json(orient='records')\n",
    "import ast\n",
    "new = {'nodes': ast.literal_eval(nodes_json), 'links': ast.literal_eval(links_json)}\n",
    "\n",
    "import json\n",
    "with open('email_network.json', 'w') as fp:\n",
    "    json.dump(new, fp)\n"
   ]
  }
 ],
 "metadata": {
  "kernelspec": {
   "display_name": "the_spreadsheet",
   "language": "python",
   "name": "python3"
  },
  "language_info": {
   "codemirror_mode": {
    "name": "ipython",
    "version": 3
   },
   "file_extension": ".py",
   "mimetype": "text/x-python",
   "name": "python",
   "nbconvert_exporter": "python",
   "pygments_lexer": "ipython3",
   "version": "3.11.4"
  }
 },
 "nbformat": 4,
 "nbformat_minor": 2
}
